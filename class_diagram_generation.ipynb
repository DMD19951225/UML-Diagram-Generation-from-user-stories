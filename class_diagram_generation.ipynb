{
 "cells": [
  {
   "cell_type": "code",
   "execution_count": 1063,
   "metadata": {},
   "outputs": [
    {
     "name": "stderr",
     "output_type": "stream",
     "text": [
      "c:\\Users\\Administrator\\AppData\\Local\\Programs\\Python\\Python310\\lib\\site-packages\\spacy\\util.py:877: UserWarning: [W095] Model 'en_core_web_sm' (3.5.0) was trained with spaCy v3.5 and may not be 100% compatible with the current version (3.4.4). If you see errors or degraded performance, download a newer compatible model or retrain your custom model with the current spaCy version. For more details and available updates, run: python -m spacy validate\n",
      "  warnings.warn(warn_msg)\n"
     ]
    },
    {
     "data": {
      "text/html": [
       "<span class=\"tex2jax_ignore\"><svg xmlns=\"http://www.w3.org/2000/svg\" xmlns:xlink=\"http://www.w3.org/1999/xlink\" xml:lang=\"en\" id=\"cf9f792a840a422b8b65857059409a03-0\" class=\"displacy\" width=\"1800\" height=\"312.0\" direction=\"ltr\" style=\"max-width: none; height: 312.0px; color: #000000; background: #ffffff; font-family: Arial; direction: ltr\">\n",
       "<text class=\"displacy-token\" fill=\"currentColor\" text-anchor=\"middle\" y=\"222.0\">\n",
       "    <tspan class=\"displacy-word\" fill=\"currentColor\" x=\"50\">nurse</tspan>\n",
       "    <tspan class=\"displacy-tag\" dy=\"2em\" fill=\"currentColor\" x=\"50\">NOUN</tspan>\n",
       "</text>\n",
       "\n",
       "<text class=\"displacy-token\" fill=\"currentColor\" text-anchor=\"middle\" y=\"222.0\">\n",
       "    <tspan class=\"displacy-word\" fill=\"currentColor\" x=\"225\">is</tspan>\n",
       "    <tspan class=\"displacy-tag\" dy=\"2em\" fill=\"currentColor\" x=\"225\">AUX</tspan>\n",
       "</text>\n",
       "\n",
       "<text class=\"displacy-token\" fill=\"currentColor\" text-anchor=\"middle\" y=\"222.0\">\n",
       "    <tspan class=\"displacy-word\" fill=\"currentColor\" x=\"400\">able</tspan>\n",
       "    <tspan class=\"displacy-tag\" dy=\"2em\" fill=\"currentColor\" x=\"400\">ADJ</tspan>\n",
       "</text>\n",
       "\n",
       "<text class=\"displacy-token\" fill=\"currentColor\" text-anchor=\"middle\" y=\"222.0\">\n",
       "    <tspan class=\"displacy-word\" fill=\"currentColor\" x=\"575\">to</tspan>\n",
       "    <tspan class=\"displacy-tag\" dy=\"2em\" fill=\"currentColor\" x=\"575\">PART</tspan>\n",
       "</text>\n",
       "\n",
       "<text class=\"displacy-token\" fill=\"currentColor\" text-anchor=\"middle\" y=\"222.0\">\n",
       "    <tspan class=\"displacy-word\" fill=\"currentColor\" x=\"750\">check</tspan>\n",
       "    <tspan class=\"displacy-tag\" dy=\"2em\" fill=\"currentColor\" x=\"750\">VERB</tspan>\n",
       "</text>\n",
       "\n",
       "<text class=\"displacy-token\" fill=\"currentColor\" text-anchor=\"middle\" y=\"222.0\">\n",
       "    <tspan class=\"displacy-word\" fill=\"currentColor\" x=\"925\">patient</tspan>\n",
       "    <tspan class=\"displacy-tag\" dy=\"2em\" fill=\"currentColor\" x=\"925\">ADJ</tspan>\n",
       "</text>\n",
       "\n",
       "<text class=\"displacy-token\" fill=\"currentColor\" text-anchor=\"middle\" y=\"222.0\">\n",
       "    <tspan class=\"displacy-word\" fill=\"currentColor\" x=\"1100\">info</tspan>\n",
       "    <tspan class=\"displacy-tag\" dy=\"2em\" fill=\"currentColor\" x=\"1100\">NOUN</tspan>\n",
       "</text>\n",
       "\n",
       "<text class=\"displacy-token\" fill=\"currentColor\" text-anchor=\"middle\" y=\"222.0\">\n",
       "    <tspan class=\"displacy-word\" fill=\"currentColor\" x=\"1275\">on</tspan>\n",
       "    <tspan class=\"displacy-tag\" dy=\"2em\" fill=\"currentColor\" x=\"1275\">ADP</tspan>\n",
       "</text>\n",
       "\n",
       "<text class=\"displacy-token\" fill=\"currentColor\" text-anchor=\"middle\" y=\"222.0\">\n",
       "    <tspan class=\"displacy-word\" fill=\"currentColor\" x=\"1450\">the</tspan>\n",
       "    <tspan class=\"displacy-tag\" dy=\"2em\" fill=\"currentColor\" x=\"1450\">DET</tspan>\n",
       "</text>\n",
       "\n",
       "<text class=\"displacy-token\" fill=\"currentColor\" text-anchor=\"middle\" y=\"222.0\">\n",
       "    <tspan class=\"displacy-word\" fill=\"currentColor\" x=\"1625\">system</tspan>\n",
       "    <tspan class=\"displacy-tag\" dy=\"2em\" fill=\"currentColor\" x=\"1625\">NOUN</tspan>\n",
       "</text>\n",
       "\n",
       "<g class=\"displacy-arrow\">\n",
       "    <path class=\"displacy-arc\" id=\"arrow-cf9f792a840a422b8b65857059409a03-0-0\" stroke-width=\"2px\" d=\"M70,177.0 C70,89.5 220.0,89.5 220.0,177.0\" fill=\"none\" stroke=\"currentColor\"/>\n",
       "    <text dy=\"1.25em\" style=\"font-size: 0.8em; letter-spacing: 1px\">\n",
       "        <textPath xlink:href=\"#arrow-cf9f792a840a422b8b65857059409a03-0-0\" class=\"displacy-label\" startOffset=\"50%\" side=\"left\" fill=\"currentColor\" text-anchor=\"middle\">nsubj</textPath>\n",
       "    </text>\n",
       "    <path class=\"displacy-arrowhead\" d=\"M70,179.0 L62,167.0 78,167.0\" fill=\"currentColor\"/>\n",
       "</g>\n",
       "\n",
       "<g class=\"displacy-arrow\">\n",
       "    <path class=\"displacy-arc\" id=\"arrow-cf9f792a840a422b8b65857059409a03-0-1\" stroke-width=\"2px\" d=\"M245,177.0 C245,89.5 395.0,89.5 395.0,177.0\" fill=\"none\" stroke=\"currentColor\"/>\n",
       "    <text dy=\"1.25em\" style=\"font-size: 0.8em; letter-spacing: 1px\">\n",
       "        <textPath xlink:href=\"#arrow-cf9f792a840a422b8b65857059409a03-0-1\" class=\"displacy-label\" startOffset=\"50%\" side=\"left\" fill=\"currentColor\" text-anchor=\"middle\">acomp</textPath>\n",
       "    </text>\n",
       "    <path class=\"displacy-arrowhead\" d=\"M395.0,179.0 L403.0,167.0 387.0,167.0\" fill=\"currentColor\"/>\n",
       "</g>\n",
       "\n",
       "<g class=\"displacy-arrow\">\n",
       "    <path class=\"displacy-arc\" id=\"arrow-cf9f792a840a422b8b65857059409a03-0-2\" stroke-width=\"2px\" d=\"M595,177.0 C595,89.5 745.0,89.5 745.0,177.0\" fill=\"none\" stroke=\"currentColor\"/>\n",
       "    <text dy=\"1.25em\" style=\"font-size: 0.8em; letter-spacing: 1px\">\n",
       "        <textPath xlink:href=\"#arrow-cf9f792a840a422b8b65857059409a03-0-2\" class=\"displacy-label\" startOffset=\"50%\" side=\"left\" fill=\"currentColor\" text-anchor=\"middle\">aux</textPath>\n",
       "    </text>\n",
       "    <path class=\"displacy-arrowhead\" d=\"M595,179.0 L587,167.0 603,167.0\" fill=\"currentColor\"/>\n",
       "</g>\n",
       "\n",
       "<g class=\"displacy-arrow\">\n",
       "    <path class=\"displacy-arc\" id=\"arrow-cf9f792a840a422b8b65857059409a03-0-3\" stroke-width=\"2px\" d=\"M420,177.0 C420,2.0 750.0,2.0 750.0,177.0\" fill=\"none\" stroke=\"currentColor\"/>\n",
       "    <text dy=\"1.25em\" style=\"font-size: 0.8em; letter-spacing: 1px\">\n",
       "        <textPath xlink:href=\"#arrow-cf9f792a840a422b8b65857059409a03-0-3\" class=\"displacy-label\" startOffset=\"50%\" side=\"left\" fill=\"currentColor\" text-anchor=\"middle\">xcomp</textPath>\n",
       "    </text>\n",
       "    <path class=\"displacy-arrowhead\" d=\"M750.0,179.0 L758.0,167.0 742.0,167.0\" fill=\"currentColor\"/>\n",
       "</g>\n",
       "\n",
       "<g class=\"displacy-arrow\">\n",
       "    <path class=\"displacy-arc\" id=\"arrow-cf9f792a840a422b8b65857059409a03-0-4\" stroke-width=\"2px\" d=\"M945,177.0 C945,89.5 1095.0,89.5 1095.0,177.0\" fill=\"none\" stroke=\"currentColor\"/>\n",
       "    <text dy=\"1.25em\" style=\"font-size: 0.8em; letter-spacing: 1px\">\n",
       "        <textPath xlink:href=\"#arrow-cf9f792a840a422b8b65857059409a03-0-4\" class=\"displacy-label\" startOffset=\"50%\" side=\"left\" fill=\"currentColor\" text-anchor=\"middle\">amod</textPath>\n",
       "    </text>\n",
       "    <path class=\"displacy-arrowhead\" d=\"M945,179.0 L937,167.0 953,167.0\" fill=\"currentColor\"/>\n",
       "</g>\n",
       "\n",
       "<g class=\"displacy-arrow\">\n",
       "    <path class=\"displacy-arc\" id=\"arrow-cf9f792a840a422b8b65857059409a03-0-5\" stroke-width=\"2px\" d=\"M770,177.0 C770,2.0 1100.0,2.0 1100.0,177.0\" fill=\"none\" stroke=\"currentColor\"/>\n",
       "    <text dy=\"1.25em\" style=\"font-size: 0.8em; letter-spacing: 1px\">\n",
       "        <textPath xlink:href=\"#arrow-cf9f792a840a422b8b65857059409a03-0-5\" class=\"displacy-label\" startOffset=\"50%\" side=\"left\" fill=\"currentColor\" text-anchor=\"middle\">dobj</textPath>\n",
       "    </text>\n",
       "    <path class=\"displacy-arrowhead\" d=\"M1100.0,179.0 L1108.0,167.0 1092.0,167.0\" fill=\"currentColor\"/>\n",
       "</g>\n",
       "\n",
       "<g class=\"displacy-arrow\">\n",
       "    <path class=\"displacy-arc\" id=\"arrow-cf9f792a840a422b8b65857059409a03-0-6\" stroke-width=\"2px\" d=\"M1120,177.0 C1120,89.5 1270.0,89.5 1270.0,177.0\" fill=\"none\" stroke=\"currentColor\"/>\n",
       "    <text dy=\"1.25em\" style=\"font-size: 0.8em; letter-spacing: 1px\">\n",
       "        <textPath xlink:href=\"#arrow-cf9f792a840a422b8b65857059409a03-0-6\" class=\"displacy-label\" startOffset=\"50%\" side=\"left\" fill=\"currentColor\" text-anchor=\"middle\">prep</textPath>\n",
       "    </text>\n",
       "    <path class=\"displacy-arrowhead\" d=\"M1270.0,179.0 L1278.0,167.0 1262.0,167.0\" fill=\"currentColor\"/>\n",
       "</g>\n",
       "\n",
       "<g class=\"displacy-arrow\">\n",
       "    <path class=\"displacy-arc\" id=\"arrow-cf9f792a840a422b8b65857059409a03-0-7\" stroke-width=\"2px\" d=\"M1470,177.0 C1470,89.5 1620.0,89.5 1620.0,177.0\" fill=\"none\" stroke=\"currentColor\"/>\n",
       "    <text dy=\"1.25em\" style=\"font-size: 0.8em; letter-spacing: 1px\">\n",
       "        <textPath xlink:href=\"#arrow-cf9f792a840a422b8b65857059409a03-0-7\" class=\"displacy-label\" startOffset=\"50%\" side=\"left\" fill=\"currentColor\" text-anchor=\"middle\">det</textPath>\n",
       "    </text>\n",
       "    <path class=\"displacy-arrowhead\" d=\"M1470,179.0 L1462,167.0 1478,167.0\" fill=\"currentColor\"/>\n",
       "</g>\n",
       "\n",
       "<g class=\"displacy-arrow\">\n",
       "    <path class=\"displacy-arc\" id=\"arrow-cf9f792a840a422b8b65857059409a03-0-8\" stroke-width=\"2px\" d=\"M1295,177.0 C1295,2.0 1625.0,2.0 1625.0,177.0\" fill=\"none\" stroke=\"currentColor\"/>\n",
       "    <text dy=\"1.25em\" style=\"font-size: 0.8em; letter-spacing: 1px\">\n",
       "        <textPath xlink:href=\"#arrow-cf9f792a840a422b8b65857059409a03-0-8\" class=\"displacy-label\" startOffset=\"50%\" side=\"left\" fill=\"currentColor\" text-anchor=\"middle\">pobj</textPath>\n",
       "    </text>\n",
       "    <path class=\"displacy-arrowhead\" d=\"M1625.0,179.0 L1633.0,167.0 1617.0,167.0\" fill=\"currentColor\"/>\n",
       "</g>\n",
       "</svg></span>"
      ],
      "text/plain": [
       "<IPython.core.display.HTML object>"
      ]
     },
     "metadata": {},
     "output_type": "display_data"
    },
    {
     "name": "stdout",
     "output_type": "stream",
     "text": [
      "nurse ... NOUN ... nsubj\n",
      "is ... AUX ... ROOT\n",
      "able ... ADJ ... acomp\n",
      "to ... PART ... aux\n",
      "check ... VERB ... xcomp\n",
      "patient ... ADJ ... amod\n",
      "info ... NOUN ... dobj\n",
      "on ... ADP ... prep\n",
      "the ... DET ... det\n",
      "system ... NOUN ... pobj\n",
      "nurse be able to check patient info on the system\n"
     ]
    }
   ],
   "source": [
    "import spacy\n",
    "from spacy import displacy\n",
    "import pandas as pd\n",
    "from spacy.lang.en.stop_words import STOP_WORDS\n",
    "\n",
    "nlp = spacy.load('en_core_web_sm')\n",
    "\n",
    "STOP_WORDS.add(\"able\")\n",
    "if 'make' in STOP_WORDS:\n",
    "    STOP_WORDS.remove(\"make\")\n",
    "    \n",
    "\n",
    "doc = nlp(\"nurse is able to check patient info on the system\")\n",
    "# doc = nlp(\"Users should be able to update credit card info on payment screen, add items to carts, and pay for items.\")\n",
    "\n",
    "displacy.render(doc, style=\"dep\", jupyter=True)\n",
    "for tok in doc:\n",
    "  print(tok.text, \"...\", tok.pos_, \"...\", tok.dep_)\n",
    "\n",
    "new_doc = []\n",
    "for tok in doc:\n",
    "    new_doc.append(tok.lemma_)\n",
    "new_doc = ' '.join(new_doc)\n",
    "new_doc = nlp(new_doc)\n",
    "print(new_doc)\n"
   ]
  },
  {
   "cell_type": "code",
   "execution_count": 1064,
   "metadata": {},
   "outputs": [
    {
     "name": "stdout",
     "output_type": "stream",
     "text": [
      "      text   pos tag    dep\n",
      "0    nurse  NOUN  NN  nsubj\n",
      "1       be   AUX  VB   ROOT\n",
      "2     able   ADJ  JJ  acomp\n",
      "3       to  PART  TO    aux\n",
      "4    check  VERB  VB  xcomp\n",
      "5  patient   ADJ  JJ   amod\n",
      "6     info  NOUN  NN   dobj\n",
      "7       on   ADP  IN   prep\n",
      "8      the   DET  DT    det\n",
      "9   system  NOUN  NN   pobj\n"
     ]
    },
    {
     "name": "stderr",
     "output_type": "stream",
     "text": [
      "C:\\Users\\Administrator\\AppData\\Local\\Temp\\ipykernel_14816\\952258587.py:3: FutureWarning: The frame.append method is deprecated and will be removed from pandas in a future version. Use pandas.concat instead.\n",
      "  df = df.append({'text': token.text, 'pos': token.pos_, 'tag': token.tag_, 'dep': token.dep_}, ignore_index=True)\n",
      "C:\\Users\\Administrator\\AppData\\Local\\Temp\\ipykernel_14816\\952258587.py:3: FutureWarning: The frame.append method is deprecated and will be removed from pandas in a future version. Use pandas.concat instead.\n",
      "  df = df.append({'text': token.text, 'pos': token.pos_, 'tag': token.tag_, 'dep': token.dep_}, ignore_index=True)\n",
      "C:\\Users\\Administrator\\AppData\\Local\\Temp\\ipykernel_14816\\952258587.py:3: FutureWarning: The frame.append method is deprecated and will be removed from pandas in a future version. Use pandas.concat instead.\n",
      "  df = df.append({'text': token.text, 'pos': token.pos_, 'tag': token.tag_, 'dep': token.dep_}, ignore_index=True)\n",
      "C:\\Users\\Administrator\\AppData\\Local\\Temp\\ipykernel_14816\\952258587.py:3: FutureWarning: The frame.append method is deprecated and will be removed from pandas in a future version. Use pandas.concat instead.\n",
      "  df = df.append({'text': token.text, 'pos': token.pos_, 'tag': token.tag_, 'dep': token.dep_}, ignore_index=True)\n",
      "C:\\Users\\Administrator\\AppData\\Local\\Temp\\ipykernel_14816\\952258587.py:3: FutureWarning: The frame.append method is deprecated and will be removed from pandas in a future version. Use pandas.concat instead.\n",
      "  df = df.append({'text': token.text, 'pos': token.pos_, 'tag': token.tag_, 'dep': token.dep_}, ignore_index=True)\n",
      "C:\\Users\\Administrator\\AppData\\Local\\Temp\\ipykernel_14816\\952258587.py:3: FutureWarning: The frame.append method is deprecated and will be removed from pandas in a future version. Use pandas.concat instead.\n",
      "  df = df.append({'text': token.text, 'pos': token.pos_, 'tag': token.tag_, 'dep': token.dep_}, ignore_index=True)\n",
      "C:\\Users\\Administrator\\AppData\\Local\\Temp\\ipykernel_14816\\952258587.py:3: FutureWarning: The frame.append method is deprecated and will be removed from pandas in a future version. Use pandas.concat instead.\n",
      "  df = df.append({'text': token.text, 'pos': token.pos_, 'tag': token.tag_, 'dep': token.dep_}, ignore_index=True)\n",
      "C:\\Users\\Administrator\\AppData\\Local\\Temp\\ipykernel_14816\\952258587.py:3: FutureWarning: The frame.append method is deprecated and will be removed from pandas in a future version. Use pandas.concat instead.\n",
      "  df = df.append({'text': token.text, 'pos': token.pos_, 'tag': token.tag_, 'dep': token.dep_}, ignore_index=True)\n",
      "C:\\Users\\Administrator\\AppData\\Local\\Temp\\ipykernel_14816\\952258587.py:3: FutureWarning: The frame.append method is deprecated and will be removed from pandas in a future version. Use pandas.concat instead.\n",
      "  df = df.append({'text': token.text, 'pos': token.pos_, 'tag': token.tag_, 'dep': token.dep_}, ignore_index=True)\n",
      "C:\\Users\\Administrator\\AppData\\Local\\Temp\\ipykernel_14816\\952258587.py:3: FutureWarning: The frame.append method is deprecated and will be removed from pandas in a future version. Use pandas.concat instead.\n",
      "  df = df.append({'text': token.text, 'pos': token.pos_, 'tag': token.tag_, 'dep': token.dep_}, ignore_index=True)\n"
     ]
    }
   ],
   "source": [
    "\n",
    "df = pd.DataFrame(columns=['text', 'pos', 'tag', 'dep'])\n",
    "for token in new_doc:\n",
    "    df = df.append({'text': token.text, 'pos': token.pos_, 'tag': token.tag_, 'dep': token.dep_}, ignore_index=True)\n",
    "print(df)"
   ]
  },
  {
   "cell_type": "code",
   "execution_count": 1065,
   "metadata": {},
   "outputs": [
    {
     "name": "stdout",
     "output_type": "stream",
     "text": [
      "nurse \t NOUN \t nsubj \t ['is'] \t []\n",
      "is \t AUX \t ROOT \t [] \t ['nurse', 'able']\n",
      "able \t ADJ \t acomp \t ['is'] \t ['check']\n",
      "to \t PART \t aux \t ['check', 'able', 'is'] \t []\n",
      "check \t VERB \t xcomp \t ['able', 'is'] \t ['to', 'info']\n",
      "patient \t ADJ \t amod \t ['info', 'check', 'able', 'is'] \t []\n",
      "info \t NOUN \t dobj \t ['check', 'able', 'is'] \t ['patient', 'on']\n",
      "on \t ADP \t prep \t ['info', 'check', 'able', 'is'] \t ['system']\n",
      "the \t DET \t det \t ['system', 'on', 'info', 'check', 'able', 'is'] \t []\n",
      "system \t NOUN \t pobj \t ['on', 'info', 'check', 'able', 'is'] \t ['the']\n"
     ]
    }
   ],
   "source": [
    "for token in doc:\n",
    "    ancestors = [t.text for t in token.ancestors]\n",
    "    children = [t.text for t in token.children]\n",
    "    print(token.text, \"\\t\", \n",
    "          token.pos_, \"\\t\", token.dep_, \"\\t\", \n",
    "          ancestors, \"\\t\", children)"
   ]
  },
  {
   "cell_type": "code",
   "execution_count": 1066,
   "metadata": {},
   "outputs": [
    {
     "name": "stdout",
     "output_type": "stream",
     "text": [
      "['nurse']\n"
     ]
    }
   ],
   "source": [
    "actor = []\n",
    "isFirst = True\n",
    "\n",
    "for tok in nlp(new_doc):\n",
    "    if (tok.tag_ == \"NN\" or tok.tag_ == \"NNS\" or tok.tag_ == \"NNP\") and isFirst == True:\n",
    "        isFirst = False\n",
    "        actor.append(tok.text)\n",
    "\n",
    "print(actor)"
   ]
  },
  {
   "cell_type": "code",
   "execution_count": 1067,
   "metadata": {},
   "outputs": [],
   "source": [
    "def get_subject_phrase(doc):\n",
    "    for token in doc:\n",
    "        if (\"subj\" in token.dep_):\n",
    "            subtree = list(token.subtree)\n",
    "            start = subtree[0].i\n",
    "            end = subtree[-1].i + 1\n",
    "            return doc[start:end]"
   ]
  },
  {
   "cell_type": "code",
   "execution_count": 1068,
   "metadata": {},
   "outputs": [],
   "source": [
    "def get_object_phrase(doc):\n",
    "    for token in doc:\n",
    "        if (\"dobj\" in token.dep_):\n",
    "            subtree = list(token.subtree)\n",
    "            for i in range(len(subtree)):\n",
    "                if subtree[i].pos_ == 'ADP':\n",
    "                    middle = subtree[i].i\n",
    "            start = subtree[0].i\n",
    "            end = subtree[-1].i + 1\n",
    "            \n",
    "            for tok in token.ancestors:\n",
    "                if tok.pos_ == \"VERB\":\n",
    "                    method = tok\n",
    "                break;\n",
    "            \n",
    "            method = str(method) + \" \" + str(doc[start:middle])\n",
    "            method = nlp(method)\n",
    "\n",
    "            return [method, doc[(middle + 1):end]]"
   ]
  },
  {
   "cell_type": "code",
   "execution_count": 1069,
   "metadata": {},
   "outputs": [],
   "source": [
    "def get_class_after_preposition(doc):\n",
    "    terms = []\n",
    "    for i in range(len(doc)):\n",
    "        if doc[i].text == 'of' or doc[i].text == 'for' or doc[i].text == 'to':\n",
    "            if doc[i+1].pos_ == 'NOUN':\n",
    "                for tok in doc[i].ancestors:\n",
    "                    if tok.pos_ == \"VERB\":\n",
    "                        terms.append([tok])\n",
    "                    break;\n",
    "                terms[-1].append(doc[i+1])\n",
    "                \n",
    "    return terms"
   ]
  },
  {
   "cell_type": "code",
   "execution_count": 1070,
   "metadata": {},
   "outputs": [
    {
     "name": "stdout",
     "output_type": "stream",
     "text": [
      "Subject: nurse\n",
      "Direct object: [check patient info, the system]\n",
      "Other classes: []\n"
     ]
    }
   ],
   "source": [
    "subject= get_subject_phrase(new_doc)\n",
    "obt = get_object_phrase(new_doc)\n",
    "other_classes = get_class_after_preposition(new_doc)\n",
    "print(\"Subject:\", subject)\n",
    "print(\"Direct object:\", obt)\n",
    "print(\"Other classes:\", other_classes)"
   ]
  },
  {
   "cell_type": "code",
   "execution_count": 1071,
   "metadata": {},
   "outputs": [
    {
     "name": "stdout",
     "output_type": "stream",
     "text": [
      "Extracted classes are as follows.\n",
      "[[check patient info, the system]]\n"
     ]
    }
   ],
   "source": [
    "classes = []\n",
    "# if get_subject_phrase(new_doc).text not in actor:\n",
    "#         classes.append(subject)\n",
    "if obt != None:\n",
    "        classes.append(obt)\n",
    "for term in other_classes:\n",
    "        classes.append(term)\n",
    "\n",
    "print(\"Extracted classes are as follows.\")\n",
    "print(classes)"
   ]
  },
  {
   "cell_type": "code",
   "execution_count": 1072,
   "metadata": {},
   "outputs": [
    {
     "name": "stdout",
     "output_type": "stream",
     "text": [
      "[['check_patient_info', 'the_system']]\n"
     ]
    }
   ],
   "source": [
    "tmp_part = classes\n",
    "classes = []\n",
    "for part in tmp_part:\n",
    "    temp_part = []\n",
    "    for term in part:\n",
    "        temp_part.append(term.text.replace(' ', '_'))\n",
    "    classes.append(temp_part)\n",
    "print(classes)\n",
    "            "
   ]
  },
  {
   "cell_type": "code",
   "execution_count": 1073,
   "metadata": {},
   "outputs": [
    {
     "data": {
      "text/plain": [
       "7"
      ]
     },
     "execution_count": 1073,
     "metadata": {},
     "output_type": "execute_result"
    }
   ],
   "source": [
    "f = open(\"classUML.puml\", \"w\")\n",
    "f.write(\"@startuml\\n\")\n",
    "f.write(\"hide circle\\n\")\n",
    "f.write(\"skinparam classFontStyle bold\\n\")\n",
    "\n",
    "for i in range(len(classes)):\n",
    "    f.write(\"class \" + str(classes[i][1]) + \"{\\n\")\n",
    "    f.write(str(classes[i][0]) + \"()\" + \"\\n\")\n",
    "    f.write(\"}\\n\")\n",
    "\n",
    "f.write(\"@enduml\")"
   ]
  }
 ],
 "metadata": {
  "kernelspec": {
   "display_name": "Python 3",
   "language": "python",
   "name": "python3"
  },
  "language_info": {
   "codemirror_mode": {
    "name": "ipython",
    "version": 3
   },
   "file_extension": ".py",
   "mimetype": "text/x-python",
   "name": "python",
   "nbconvert_exporter": "python",
   "pygments_lexer": "ipython3",
   "version": "3.10.9"
  },
  "orig_nbformat": 4
 },
 "nbformat": 4,
 "nbformat_minor": 2
}
